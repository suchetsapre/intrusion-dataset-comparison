{
 "cells": [
  {
   "cell_type": "code",
   "execution_count": 4,
   "metadata": {},
   "outputs": [],
   "source": [
    "from sklearn.linear_model import LogisticRegression\n",
    "from sklearn.neighbors import KNeighborsClassifier\n",
    "import pandas as pd\n",
    "import tensorflow as tf\n",
    "import numpy as np\n",
    "from sklearn.model_selection import train_test_split\n",
    "import matplotlib.pyplot as plt\n",
    "from sklearn.svm import SVC\n",
    "import sklearn\n",
    "import pickle\n",
    "from sklearn.manifold import TSNE\n",
    "from sklearn.naive_bayes import GaussianNB\n",
    "from sklearn import metrics\n",
    "from sklearn.manifold import TSNE\n",
    "from sklearn.svm import SVC\n",
    "import sklearn\n",
    "from sklearn.metrics import accuracy_score\n",
    "from sklearn.ensemble import RandomForestClassifier"
   ]
  },
  {
   "cell_type": "markdown",
   "metadata": {},
   "source": [
    "**KDDCup99**"
   ]
  },
  {
   "cell_type": "code",
   "execution_count": 5,
   "metadata": {},
   "outputs": [],
   "source": [
    "'''Reading in the data and adding the relevant columns '''\n",
    "just_for_columns = pd.read_pickle('kddcup99dataframe')\n",
    "\n",
    "KDD_data_10_percent = pd.read_csv('kddcup.data_10_percent.gz') #this is the one we want\n",
    "KDD_data_10_percent.columns = list(just_for_columns.columns)\n",
    "KDD_data_10_percent_x_train, KDD_data_10_percent_y_train = KDD_data_10_percent.iloc[:,:KDD_data_10_percent.shape[1]-1], KDD_data_10_percent.iloc[:,KDD_data_10_percent.shape[1]-1]\n",
    "\n",
    "corrected = pd.read_csv('corrected.gz') #this is the test data\n",
    "corrected.columns = list(just_for_columns.columns)\n",
    "corrected_x_train, corrected_y_train = corrected.iloc[:,:corrected.shape[1]-1], corrected.iloc[:,corrected.shape[1]-1]\n",
    "\n",
    "kddcup_newtestdata_10_percent_unlabeled = pd.read_csv('kddcup.newtestdata_10_percent_unlabeled.gz')\n",
    "kddcup_newtestdata_10_percent_unlabeled.columns = list(just_for_columns.columns)[0:kddcup_newtestdata_10_percent_unlabeled.shape[1]]\n",
    "kddcup_newtestdata_10_percent_unlabeled_x_train, kddcup_newtestdata_10_percent_unlabeled_y_train = kddcup_newtestdata_10_percent_unlabeled.iloc[:,:kddcup_newtestdata_10_percent_unlabeled.shape[1]-1], kddcup_newtestdata_10_percent_unlabeled.iloc[:,kddcup_newtestdata_10_percent_unlabeled.shape[1]-1]"
   ]
  },
  {
   "cell_type": "code",
   "execution_count": 6,
   "metadata": {},
   "outputs": [],
   "source": [
    "frames = [KDD_data_10_percent, corrected]\n",
    "combined_df = pd.concat(frames)\n",
    "combined_df_all_numerical = pd.get_dummies(combined_df)"
   ]
  },
  {
   "cell_type": "code",
   "execution_count": 7,
   "metadata": {},
   "outputs": [],
   "source": [
    "KDD_data_10_percent_dummy,corrected_dummy = combined_df_all_numerical.iloc[0:KDD_data_10_percent.shape[0], :], combined_df_all_numerical.iloc[KDD_data_10_percent.shape[0]:, :]"
   ]
  },
  {
   "cell_type": "code",
   "execution_count": 8,
   "metadata": {},
   "outputs": [],
   "source": [
    "KDD_data_10_percent_dummy_x_train = KDD_data_10_percent_dummy.iloc[:,0:119]\n",
    "corrected_dummy_x_test = corrected_dummy.iloc[:,0:119]\n",
    "''' This data is the 23 dimension one hot encoded vector for each intrusion type'''\n",
    "KDD_data_10_percent_dummy_y_train = KDD_data_10_percent_dummy.iloc[:,119:]\n",
    "corrected_dummy_y_test = corrected_dummy.iloc[:,119:] "
   ]
  },
  {
   "cell_type": "code",
   "execution_count": 9,
   "metadata": {},
   "outputs": [
    {
     "data": {
      "text/plain": [
       "0    normal.\n",
       "1    normal.\n",
       "2    normal.\n",
       "3    normal.\n",
       "4    normal.\n",
       "Name: label, dtype: object"
      ]
     },
     "execution_count": 9,
     "metadata": {},
     "output_type": "execute_result"
    }
   ],
   "source": [
    "KDD_data_10_percent_y_train.head()"
   ]
  },
  {
   "cell_type": "code",
   "execution_count": 10,
   "metadata": {},
   "outputs": [],
   "source": [
    "''' creation of the binary classification and 4-way classification datasets '''\n",
    "\n",
    "intrusion_name_to_type = {\n",
    "    'apache2' : 'dos',\n",
    "    'normal' : 'normal',\n",
    "    'back' : 'dos',\n",
    "    'buffer_overflow':'u2r',\n",
    "    'ftp_write' :'r2l',\n",
    "    'guess_passwd': 'r2l',\n",
    "    'httptunnel' : 'r2l',\n",
    "    'imap': 'r2l',\n",
    "    'ipsweep' :'probe',\n",
    "    'land': 'dos',\n",
    "    'loadmodule': 'u2r',\n",
    "    'mailbomb' : 'dos',\n",
    "    'mscan' : 'probe',\n",
    "    'multihop': 'r2l',\n",
    "    'named' : 'r2l',\n",
    "    'neptune': 'dos',\n",
    "    'nmap': 'probe',\n",
    "    'ps' : 'u2r',\n",
    "    'perl': 'u2r',\n",
    "    'phf' :'r2l',\n",
    "    'pod':'dos',\n",
    "    'processtable' : 'dos',\n",
    "    'portsweep': 'probe',\n",
    "    'rootkit': 'u2r',\n",
    "    'saint' : 'probe',\n",
    "    'satan' :'probe',\n",
    "    'sendmail' : 'r2l',\n",
    "    'smurf': 'dos',\n",
    "    'snmpguess' : 'r2l',\n",
    "    'snmpgetattack' : 'r2l',\n",
    "    'sqlattack' : 'u2r',\n",
    "    'spy': 'r2l',\n",
    "    'teardrop': 'dos',\n",
    "    'udpstorm' : 'dos',\n",
    "    'worm' : 'dos',\n",
    "    'warezclient': 'r2l',\n",
    "    'warezmaster': 'r2l',\n",
    "    'xlock' : 'r2l',\n",
    "    'xsnoop' : 'r2l',\n",
    "    'xterm' : 'u2r',\n",
    "    'snmpgetattack': 'r2l',\n",
    "    'named' : 'r2l',\n",
    "    \n",
    "}\n",
    "\n",
    "intrusion_type_to_one_hot_index = {\n",
    "    'normal' : 0,\n",
    "    'dos' : 1,\n",
    "    'r2l' : 2,\n",
    "    'u2r' : 3,\n",
    "    'probe' : 4\n",
    "}\n",
    "\n",
    "def create_binary_data(original_y_labels):\n",
    "    ''' input should be the list of the y_labels ie. \"normal, neptune, etc. \n",
    "        returns a dataframe. \"'''\n",
    "    \n",
    "    y_data_binary = []\n",
    "    \n",
    "    for row in range(original_y_labels.shape[0]):\n",
    "        if \"normal\" in original_y_labels.iloc[row]:\n",
    "            y_data_binary.append(0)\n",
    "        else:\n",
    "            y_data_binary.append(1)\n",
    "    \n",
    "    y_data_binary = np.asarray(y_data_binary)\n",
    "    y_data_binary_df = pd.DataFrame(y_data_binary)\n",
    "    y_data_binary_df.columns = [\"label\"]\n",
    "    \n",
    "    return y_data_binary_df\n",
    "\n",
    "def create_attack_type_data(original_y_labels):\n",
    "    ''' input should be the list of the y_labels ie. \"normal, neptune, etc.\" \n",
    "        returns a dataframe. '''\n",
    "    \n",
    "    y_data_attack_type = []\n",
    "    \n",
    "    for row in range(original_y_labels.shape[0]):\n",
    "        one_hot = [0, 0, 0, 0, 0]\n",
    "        intrusion_type = intrusion_name_to_type[original_y_labels[row][:-1]]\n",
    "        one_hot_index = intrusion_type_to_one_hot_index[intrusion_type]\n",
    "        one_hot[one_hot_index] = 1\n",
    "        y_data_attack_type.append(one_hot)\n",
    "    \n",
    "    y_data_attack_type = np.asarray(y_data_attack_type)\n",
    "    y_data_attack_type_df = pd.DataFrame(y_data_attack_type)\n",
    "    y_data_attack_type_df.columns = [\"normal\", \"dos\", \"r2l\", \"u2r\", \"probe\"]\n",
    "    \n",
    "    return y_data_attack_type_df"
   ]
  },
  {
   "cell_type": "code",
   "execution_count": 11,
   "metadata": {},
   "outputs": [],
   "source": [
    "KDD_data_10_percent_dummy_y_train_binary = create_binary_data(KDD_data_10_percent_y_train)\n",
    "corrected_dummy_y_test_binary = create_binary_data(corrected_y_train)"
   ]
  },
  {
   "cell_type": "code",
   "execution_count": 13,
   "metadata": {},
   "outputs": [],
   "source": [
    "KDD_data_10_percent_dummy_y_train_attacktype = create_attack_type_data(KDD_data_10_percent_y_train)\n",
    "corrected_dummy_y_test_attacktype = create_attack_type_data(corrected_y_train)"
   ]
  },
  {
   "cell_type": "code",
   "execution_count": 14,
   "metadata": {},
   "outputs": [
    {
     "data": {
      "text/plain": [
       "['label_apache2.',\n",
       " 'label_back.',\n",
       " 'label_buffer_overflow.',\n",
       " 'label_ftp_write.',\n",
       " 'label_guess_passwd.',\n",
       " 'label_httptunnel.',\n",
       " 'label_imap.',\n",
       " 'label_ipsweep.',\n",
       " 'label_land.',\n",
       " 'label_loadmodule.',\n",
       " 'label_mailbomb.',\n",
       " 'label_mscan.',\n",
       " 'label_multihop.',\n",
       " 'label_named.',\n",
       " 'label_neptune.',\n",
       " 'label_nmap.',\n",
       " 'label_normal.',\n",
       " 'label_perl.',\n",
       " 'label_phf.',\n",
       " 'label_pod.',\n",
       " 'label_portsweep.',\n",
       " 'label_processtable.',\n",
       " 'label_ps.',\n",
       " 'label_rootkit.',\n",
       " 'label_saint.',\n",
       " 'label_satan.',\n",
       " 'label_sendmail.',\n",
       " 'label_smurf.',\n",
       " 'label_snmpgetattack.',\n",
       " 'label_snmpguess.',\n",
       " 'label_spy.',\n",
       " 'label_sqlattack.',\n",
       " 'label_teardrop.',\n",
       " 'label_udpstorm.',\n",
       " 'label_warezclient.',\n",
       " 'label_warezmaster.',\n",
       " 'label_worm.',\n",
       " 'label_xlock.',\n",
       " 'label_xsnoop.',\n",
       " 'label_xterm.']"
      ]
     },
     "execution_count": 14,
     "metadata": {},
     "output_type": "execute_result"
    }
   ],
   "source": [
    "list(KDD_data_10_percent_dummy_y_train.columns)"
   ]
  },
  {
   "cell_type": "code",
   "execution_count": 15,
   "metadata": {},
   "outputs": [],
   "source": [
    "''' time to pickle all the data files '''\n",
    "\n",
    "#by train I mean like the entire dataset, but i think I will use this as train??\n",
    "KDD_data_10_percent_dummy_x_train.to_pickle('KDD_x_train_dummy.pkl')\n",
    "KDD_data_10_percent_dummy_y_train.to_pickle('KDD_y_train_col_40.pkl')\n",
    "KDD_data_10_percent_dummy_y_train_binary.to_pickle('KDD_y_train_col_1.pkl')\n",
    "KDD_data_10_percent_dummy_y_train_attacktype.to_pickle('KDD_y_train_col_5.pkl')\n",
    "\n",
    "corrected_dummy_x_test.to_pickle('KDD_x_test_dummy.pkl')\n",
    "corrected_dummy_y_test.to_pickle('KDD_y_test_col_40.pkl')\n",
    "corrected_dummy_y_test_binary.to_pickle('KDD_y_test_col_1.pkl')\n",
    "corrected_dummy_y_test_attacktype.to_pickle('KDD_y_test_col_5.pkl')"
   ]
  },
  {
   "cell_type": "code",
   "execution_count": null,
   "metadata": {},
   "outputs": [],
   "source": []
  },
  {
   "cell_type": "code",
   "execution_count": null,
   "metadata": {},
   "outputs": [],
   "source": []
  }
 ],
 "metadata": {
  "kernelspec": {
   "display_name": "Python 3",
   "language": "python",
   "name": "python3"
  },
  "language_info": {
   "codemirror_mode": {
    "name": "ipython",
    "version": 3
   },
   "file_extension": ".py",
   "mimetype": "text/x-python",
   "name": "python",
   "nbconvert_exporter": "python",
   "pygments_lexer": "ipython3",
   "version": "3.7.3"
  }
 },
 "nbformat": 4,
 "nbformat_minor": 4
}
