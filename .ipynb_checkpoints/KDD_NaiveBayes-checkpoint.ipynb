{
 "cells": [
  {
   "cell_type": "code",
   "execution_count": 12,
   "metadata": {},
   "outputs": [],
   "source": [
    "from sklearn.linear_model import LogisticRegression\n",
    "from sklearn.neighbors import KNeighborsClassifier\n",
    "import pandas as pd\n",
    "import tensorflow as tf\n",
    "import numpy as np\n",
    "from sklearn.model_selection import train_test_split\n",
    "import matplotlib.pyplot as plt\n",
    "from sklearn.svm import SVC\n",
    "import sklearn\n",
    "import pickle\n",
    "from sklearn.manifold import TSNE\n",
    "from sklearn.naive_bayes import GaussianNB, MultinomialNB\n",
    "from sklearn import metrics\n",
    "from sklearn.manifold import TSNE\n",
    "from sklearn.svm import SVC\n",
    "import sklearn\n",
    "from sklearn.metrics import accuracy_score\n",
    "from sklearn.ensemble import RandomForestClassifier\n",
    "from sklearn.preprocessing import normalize"
   ]
  },
  {
   "cell_type": "code",
   "execution_count": 13,
   "metadata": {},
   "outputs": [],
   "source": [
    "x_train = pd.read_pickle('KDD_x_train_dummy.pkl').values\n",
    "x_test = pd.read_pickle('KDD_x_test_dummy.pkl').values\n",
    "y_train_type = pd.read_pickle('KDD_y_train_col_5.pkl').values\n",
    "y_test_type = pd.read_pickle('KDD_y_test_col_5.pkl').values\n",
    "y_train_binary = pd.read_pickle('KDD_y_train_col_1.pkl').values\n",
    "y_test_binary = pd.read_pickle('KDD_y_test_col_1.pkl').values\n",
    "y_train_intrusion = pd.read_pickle('KDD_y_train_col_40.pkl').values\n",
    "y_test_intrusion = pd.read_pickle('KDD_y_test_col_40.pkl').values\n",
    "\n",
    "x_train_norm = normalize(x_train, axis=1, norm='l2')\n",
    "x_test_norm = normalize(x_test, axis=1, norm='l2')"
   ]
  },
  {
   "cell_type": "code",
   "execution_count": 28,
   "metadata": {},
   "outputs": [
    {
     "name": "stderr",
     "output_type": "stream",
     "text": [
      "C:\\app\\Anaconda3\\lib\\site-packages\\sklearn\\utils\\validation.py:761: DataConversionWarning: A column-vector y was passed when a 1d array was expected. Please change the shape of y to (n_samples, ), for example using ravel().\n",
      "  y = column_or_1d(y, warn=True)\n"
     ]
    },
    {
     "data": {
      "text/plain": [
       "GaussianNB(priors=None, var_smoothing=1e-09)"
      ]
     },
     "execution_count": 28,
     "metadata": {},
     "output_type": "execute_result"
    }
   ],
   "source": [
    "gnb = GaussianNB()\n",
    "gnb.fit(x_train, y_train_binary)"
   ]
  },
  {
   "cell_type": "code",
   "execution_count": 29,
   "metadata": {},
   "outputs": [],
   "source": [
    "y_pred = gnb.predict(x_test)"
   ]
  },
  {
   "cell_type": "code",
   "execution_count": 30,
   "metadata": {},
   "outputs": [
    {
     "name": "stdout",
     "output_type": "stream",
     "text": [
      "Accuracy: 0.8779756163432231\n"
     ]
    }
   ],
   "source": [
    "print(\"Accuracy:\",metrics.accuracy_score(y_test_binary, y_pred))"
   ]
  },
  {
   "cell_type": "code",
   "execution_count": 6,
   "metadata": {},
   "outputs": [],
   "source": [
    "''' y_data should be one dimensional but it should represent the indicies of the intrusion type '''\n",
    "\n",
    "def convert_to_intrusion_index(y_data_type):\n",
    "    y_converted = []\n",
    "    for row in range(y_data_type.shape[0]):\n",
    "        index = np.argmax(y_data_type[row])\n",
    "        y_converted.append(index)\n",
    "    return np.asarray(y_converted)\n",
    "\n",
    "y_train_indexed_type = convert_to_intrusion_index(y_train_type)\n",
    "y_test_indexed_type = convert_to_intrusion_index(y_test_type)"
   ]
  },
  {
   "cell_type": "code",
   "execution_count": 21,
   "metadata": {},
   "outputs": [
    {
     "data": {
      "text/plain": [
       "MultinomialNB(alpha=1.0, class_prior=None, fit_prior=True)"
      ]
     },
     "execution_count": 21,
     "metadata": {},
     "output_type": "execute_result"
    }
   ],
   "source": [
    "mgnb = MultinomialNB()\n",
    "mgnb.fit(x_train_norm,y_train_indexed_type)"
   ]
  },
  {
   "cell_type": "code",
   "execution_count": 22,
   "metadata": {},
   "outputs": [],
   "source": [
    "y_pred = mgnb.predict(x_test_norm)"
   ]
  },
  {
   "cell_type": "code",
   "execution_count": 23,
   "metadata": {},
   "outputs": [
    {
     "name": "stdout",
     "output_type": "stream",
     "text": [
      "Accuracy: 0.89936275833687\n"
     ]
    }
   ],
   "source": [
    "print(\"Accuracy:\",metrics.accuracy_score(y_test_indexed_type, y_pred))"
   ]
  },
  {
   "cell_type": "code",
   "execution_count": 24,
   "metadata": {},
   "outputs": [],
   "source": [
    "def accuracy_per_class(y_pred, y_test, columns_list):\n",
    "    ''' Assumes y_pred and y_test are identical shape and are both one hot encoded. Both y_pred\n",
    "    and y_test should be numpy arrays. Columns_list should just be a list of columns.\n",
    "    Dict format: {class: [correct, incorrect]}'''\n",
    "    accuracy_dict = {}\n",
    "    correct_index = 0\n",
    "    incorrect_index = 1\n",
    "    for row in range(y_pred.shape[0]):\n",
    "        curr_correct_index = np.argmax(y_test[row])\n",
    "        curr_col_name = columns_list[curr_correct_index]\n",
    "        if np.argmax(y_pred[row]) == curr_correct_index:\n",
    "            if curr_col_name in accuracy_dict:\n",
    "                accuracy_dict[curr_col_name][correct_index] += 1\n",
    "            else:\n",
    "                accuracy_dict[curr_col_name] = [1, 0]\n",
    "        elif np.argmax(y_pred[row]) != curr_correct_index:\n",
    "            if curr_col_name in accuracy_dict:\n",
    "                accuracy_dict[curr_col_name][incorrect_index] += 1\n",
    "            else:\n",
    "                accuracy_dict[curr_col_name] = [0, 1]\n",
    "    for class_name in accuracy_dict:\n",
    "        lst = accuracy_dict[class_name]\n",
    "        percentage = lst[correct_index]/(lst[incorrect_index]+lst[correct_index])\n",
    "        accuracy_dict[class_name].insert(0, percentage)\n",
    "    return accuracy_dict\n",
    "\n",
    "def confusion_matrix_type(y_pred, y_test):\n",
    "    confusion_matrix_dict = {\n",
    "        'normal' : [0, 0, 0, 0, 0],\n",
    "        'dos' : [0, 0, 0, 0, 0],\n",
    "        'r2l' : [0, 0, 0, 0, 0],\n",
    "        'u2r' : [0, 0, 0, 0, 0],\n",
    "        'probe' : [0, 0, 0, 0, 0]\n",
    "    }\n",
    "    index_to_type_dict = {\n",
    "        0 : 'normal',\n",
    "        1 : 'dos',\n",
    "        2 : 'r2l',\n",
    "        3 : 'u2r',\n",
    "        4 : 'probe'\n",
    "    }\n",
    "    for row in range(y_pred.shape[0]):\n",
    "        target_output = y_test[row]\n",
    "        target_index = np.argmax(target_output)\n",
    "        predicted_output = y_pred[row]\n",
    "        predicted_index = np.argmax(predicted_output)\n",
    "        \n",
    "        target_type = index_to_type_dict[target_index]\n",
    "        predicted_type = index_to_type_dict[predicted_index]\n",
    "        \n",
    "        confusion_matrix_dict[target_type][predicted_index] += 1\n",
    "    \n",
    "    return confusion_matrix_dict\n",
    "\n",
    "\n",
    "def accuracy_per_class_binary(y_pred, y_test):\n",
    "    ''' [correct, incorrect]'''\n",
    "    accuracy_dict = {'normal': [0,0], 'anomaly': [0,0]}\n",
    "    for row in range(y_pred.shape[0]):\n",
    "        target_output = y_test[row]\n",
    "        predicted_output = np.around(y_pred[row], decimals=0)\n",
    "        if target_output == 0:\n",
    "            if predicted_output != target_output:\n",
    "                accuracy_dict['normal'][1] += 1\n",
    "            elif predicted_output == target_output:\n",
    "                accuracy_dict['normal'][0] += 1\n",
    "        if target_output == 1:\n",
    "            if predicted_output != target_output:\n",
    "                accuracy_dict['anomaly'][1] += 1\n",
    "            elif predicted_output == target_output:\n",
    "                accuracy_dict['anomaly'][0] += 1\n",
    "    for class_name in accuracy_dict:\n",
    "        lst = accuracy_dict[class_name]\n",
    "        percentage = lst[0]/(lst[1]+lst[0])\n",
    "        accuracy_dict[class_name].insert(0, percentage)\n",
    "    return accuracy_dict\n"
   ]
  },
  {
   "cell_type": "code",
   "execution_count": 31,
   "metadata": {},
   "outputs": [
    {
     "data": {
      "text/plain": [
       "(0.9937033267810756, 0.8538628631666374, 0.9184909015546712)"
      ]
     },
     "execution_count": 31,
     "metadata": {},
     "output_type": "execute_result"
    }
   ],
   "source": [
    "binary_classification_accuracy_per_class = accuracy_per_class_binary(y_pred, y_test_binary)\n",
    "\n",
    "def tp_tn_fp_fn(accuracy_foreach_class_dict):\n",
    "    ''' The dictionary I defined previously. '''\n",
    "    tp = accuracy_foreach_class_dict[\"anomaly\"][1]\n",
    "    tn = accuracy_foreach_class_dict[\"normal\"][1]\n",
    "    fp = accuracy_foreach_class_dict[\"normal\"][2]\n",
    "    fn = accuracy_foreach_class_dict[\"anomaly\"][2]\n",
    "    return tp, tn, fp, fn\n",
    "\n",
    "tp, tn, fp, fn = tp_tn_fp_fn(binary_classification_accuracy_per_class)\n",
    "\n",
    "precision = tp/(tp+fp)\n",
    "recall = tp/(tp+fn)\n",
    "f1_score = 2*(recall * precision) / (recall + precision)\n",
    "\n",
    "precision, recall, f1_score"
   ]
  },
  {
   "cell_type": "code",
   "execution_count": null,
   "metadata": {},
   "outputs": [],
   "source": []
  }
 ],
 "metadata": {
  "kernelspec": {
   "display_name": "Python 3",
   "language": "python",
   "name": "python3"
  },
  "language_info": {
   "codemirror_mode": {
    "name": "ipython",
    "version": 3
   },
   "file_extension": ".py",
   "mimetype": "text/x-python",
   "name": "python",
   "nbconvert_exporter": "python",
   "pygments_lexer": "ipython3",
   "version": "3.7.3"
  }
 },
 "nbformat": 4,
 "nbformat_minor": 4
}
