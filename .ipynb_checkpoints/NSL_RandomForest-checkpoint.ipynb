{
 "cells": [
  {
   "cell_type": "code",
   "execution_count": 2,
   "metadata": {},
   "outputs": [],
   "source": [
    "from sklearn.linear_model import LogisticRegression\n",
    "from sklearn.neighbors import KNeighborsClassifier\n",
    "import pandas as pd\n",
    "import tensorflow as tf\n",
    "import numpy as np\n",
    "from sklearn.model_selection import train_test_split\n",
    "import matplotlib.pyplot as plt\n",
    "from sklearn.svm import SVC\n",
    "import sklearn\n",
    "import pickle\n",
    "from sklearn.manifold import TSNE\n",
    "from sklearn.naive_bayes import GaussianNB\n",
    "from sklearn import metrics\n",
    "from sklearn.manifold import TSNE\n",
    "from sklearn.svm import SVC\n",
    "import sklearn\n",
    "from sklearn.metrics import accuracy_score\n",
    "from sklearn.ensemble import RandomForestClassifier\n",
    "from sklearn.preprocessing import normalize"
   ]
  },
  {
   "cell_type": "code",
   "execution_count": 3,
   "metadata": {},
   "outputs": [],
   "source": [
    "x_train = pd.read_pickle('NSL_x_train_dummy.pkl').values\n",
    "x_test = pd.read_pickle('NSL_x_test_dummy.pkl').values\n",
    "x_test_21 = pd.read_pickle('NSL_x_test_21_dummy.pkl').values\n",
    "y_train_type = pd.read_pickle('NSL_y_train_col_5.pkl').values\n",
    "y_test_type = pd.read_pickle('NSL_y_test_col_5.pkl').values\n",
    "y_test_21_type = pd.read_pickle('NSL_y_test_21_col_5.pkl').values\n",
    "y_train_binary = pd.read_pickle('NSL_y_train_col_1.pkl').values\n",
    "y_test_binary = pd.read_pickle('NSL_y_test_col_1.pkl').values\n",
    "y_test_21_binary = pd.read_pickle('NSL_y_test_21_col_1.pkl').values\n",
    "y_train_intrusion = pd.read_pickle('NSL_y_train_col_40.pkl').values\n",
    "y_test_intrusion = pd.read_pickle('NSL_y_test_col_40.pkl').values\n",
    "y_test_21_intrusion = pd.read_pickle('NSL_y_test_21_col_40.pkl').values\n",
    "\n",
    "x_train_norm= normalize(x_train, axis=1, norm='l2')\n",
    "x_test_norm= normalize(x_test, axis=1, norm='l2')\n",
    "x_test_21_norm= normalize(x_test_21, axis=1, norm='l2')\n",
    "y_train_type_norm= normalize(y_train_type, axis=1, norm='l2')\n",
    "y_test_type_norm= normalize(y_test_type, axis=1, norm='l2')\n",
    "y_test_21_type_norm= normalize(y_test_21_type, axis=1, norm='l2')\n",
    "y_train_binary_norm= normalize(y_train_binary, axis=1, norm='l2')\n",
    "y_test_binary_norm= normalize(y_test_binary, axis=1, norm='l2')\n",
    "y_test_21_binary_norm= normalize(y_test_21_binary, axis=1, norm='l2')\n",
    "y_train_intrusion_norm= normalize(y_train_intrusion, axis=1, norm='l2')\n",
    "y_test_intrusion_norm= normalize(y_test_intrusion, axis=1, norm='l2')\n",
    "y_test_21_intrusion_norm= normalize(y_test_21_intrusion, axis=1, norm='l2')\n"
   ]
  },
  {
   "cell_type": "code",
   "execution_count": 17,
   "metadata": {},
   "outputs": [],
   "source": [
    "model = RandomForestClassifier(n_estimators=100)"
   ]
  },
  {
   "cell_type": "code",
   "execution_count": 21,
   "metadata": {},
   "outputs": [
    {
     "name": "stderr",
     "output_type": "stream",
     "text": [
      "C:\\app\\Anaconda3\\lib\\site-packages\\ipykernel_launcher.py:1: DataConversionWarning: A column-vector y was passed when a 1d array was expected. Please change the shape of y to (n_samples,), for example using ravel().\n",
      "  \"\"\"Entry point for launching an IPython kernel.\n"
     ]
    },
    {
     "data": {
      "text/plain": [
       "RandomForestClassifier(bootstrap=True, class_weight=None, criterion='gini',\n",
       "            max_depth=None, max_features='auto', max_leaf_nodes=None,\n",
       "            min_impurity_decrease=0.0, min_impurity_split=None,\n",
       "            min_samples_leaf=1, min_samples_split=2,\n",
       "            min_weight_fraction_leaf=0.0, n_estimators=50, n_jobs=None,\n",
       "            oob_score=False, random_state=None, verbose=0,\n",
       "            warm_start=False)"
      ]
     },
     "execution_count": 21,
     "metadata": {},
     "output_type": "execute_result"
    }
   ],
   "source": [
    "model.fit(x_train, y_train_binary)"
   ]
  },
  {
   "cell_type": "code",
   "execution_count": 22,
   "metadata": {},
   "outputs": [],
   "source": [
    "y_pred = model.predict(x_test)"
   ]
  },
  {
   "cell_type": "code",
   "execution_count": 23,
   "metadata": {},
   "outputs": [
    {
     "data": {
      "text/plain": [
       "0.7698176817637404"
      ]
     },
     "execution_count": 23,
     "metadata": {},
     "output_type": "execute_result"
    }
   ],
   "source": [
    "accuracy_score(y_test_binary, y_pred)"
   ]
  },
  {
   "cell_type": "code",
   "execution_count": 25,
   "metadata": {},
   "outputs": [],
   "source": [
    "def accuracy_per_class(y_pred, y_test, columns_list):\n",
    "    ''' Assumes y_pred and y_test are identical shape and are both one hot encoded. Both y_pred\n",
    "    and y_test should be numpy arrays. Columns_list should just be a list of columns.\n",
    "    Dict format: {class: [correct, incorrect]}'''\n",
    "    accuracy_dict = {}\n",
    "    correct_index = 0\n",
    "    incorrect_index = 1\n",
    "    for row in range(y_pred.shape[0]):\n",
    "        curr_correct_index = np.argmax(y_test[row])\n",
    "        curr_col_name = columns_list[curr_correct_index]\n",
    "        if np.argmax(y_pred[row]) == curr_correct_index:\n",
    "            if curr_col_name in accuracy_dict:\n",
    "                accuracy_dict[curr_col_name][correct_index] += 1\n",
    "            else:\n",
    "                accuracy_dict[curr_col_name] = [1, 0]\n",
    "        elif np.argmax(y_pred[row]) != curr_correct_index:\n",
    "            if curr_col_name in accuracy_dict:\n",
    "                accuracy_dict[curr_col_name][incorrect_index] += 1\n",
    "            else:\n",
    "                accuracy_dict[curr_col_name] = [0, 1]\n",
    "    for class_name in accuracy_dict:\n",
    "        lst = accuracy_dict[class_name]\n",
    "        percentage = lst[correct_index]/(lst[incorrect_index]+lst[correct_index])\n",
    "        accuracy_dict[class_name].insert(0, percentage)\n",
    "    return accuracy_dict\n",
    "\n",
    "def confusion_matrix_type(y_pred, y_test):\n",
    "    confusion_matrix_dict = {\n",
    "        'normal' : [0, 0, 0, 0, 0],\n",
    "        'dos' : [0, 0, 0, 0, 0],\n",
    "        'r2l' : [0, 0, 0, 0, 0],\n",
    "        'u2r' : [0, 0, 0, 0, 0],\n",
    "        'probe' : [0, 0, 0, 0, 0]\n",
    "    }\n",
    "    index_to_type_dict = {\n",
    "        0 : 'normal',\n",
    "        1 : 'dos',\n",
    "        2 : 'r2l',\n",
    "        3 : 'u2r',\n",
    "        4 : 'probe'\n",
    "    }\n",
    "    for row in range(y_pred.shape[0]):\n",
    "        target_output = y_test[row]\n",
    "        target_index = np.argmax(target_output)\n",
    "        predicted_output = y_pred[row]\n",
    "        predicted_index = np.argmax(predicted_output)\n",
    "        \n",
    "        target_type = index_to_type_dict[target_index]\n",
    "        predicted_type = index_to_type_dict[predicted_index]\n",
    "        \n",
    "        confusion_matrix_dict[target_type][predicted_index] += 1\n",
    "    \n",
    "    return confusion_matrix_dict\n",
    "\n",
    "\n",
    "def accuracy_per_class_binary(y_pred, y_test):\n",
    "    ''' [correct, incorrect]'''\n",
    "    accuracy_dict = {'normal': [0,0], 'anomaly': [0,0]}\n",
    "    for row in range(y_pred.shape[0]):\n",
    "        target_output = y_test[row]\n",
    "        predicted_output = np.around(y_pred[row], decimals=0)\n",
    "        if target_output == 0:\n",
    "            if predicted_output != target_output:\n",
    "                accuracy_dict['normal'][1] += 1\n",
    "            elif predicted_output == target_output:\n",
    "                accuracy_dict['normal'][0] += 1\n",
    "        if target_output == 1:\n",
    "            if predicted_output != target_output:\n",
    "                accuracy_dict['anomaly'][1] += 1\n",
    "            elif predicted_output == target_output:\n",
    "                accuracy_dict['anomaly'][0] += 1\n",
    "    for class_name in accuracy_dict:\n",
    "        lst = accuracy_dict[class_name]\n",
    "        percentage = lst[0]/(lst[1]+lst[0])\n",
    "        accuracy_dict[class_name].insert(0, percentage)\n",
    "    return accuracy_dict\n"
   ]
  },
  {
   "cell_type": "code",
   "execution_count": 26,
   "metadata": {},
   "outputs": [
    {
     "data": {
      "text/plain": [
       "(0.968263693174856, 0.6158042394014963, 0.7528223693612158)"
      ]
     },
     "execution_count": 26,
     "metadata": {},
     "output_type": "execute_result"
    }
   ],
   "source": [
    "binary_classification_accuracy_per_class = accuracy_per_class_binary(y_pred, y_test_binary)\n",
    "\n",
    "def tp_tn_fp_fn(accuracy_foreach_class_dict):\n",
    "    ''' The dictionary I defined previously. '''\n",
    "    tp = accuracy_foreach_class_dict[\"anomaly\"][1]\n",
    "    tn = accuracy_foreach_class_dict[\"normal\"][1]\n",
    "    fp = accuracy_foreach_class_dict[\"normal\"][2]\n",
    "    fn = accuracy_foreach_class_dict[\"anomaly\"][2]\n",
    "    return tp, tn, fp, fn\n",
    "\n",
    "tp, tn, fp, fn = tp_tn_fp_fn(binary_classification_accuracy_per_class)\n",
    "\n",
    "precision = tp/(tp+fp)\n",
    "recall = tp/(tp+fn)\n",
    "f1_score = 2*(recall * precision) / (recall + precision)\n",
    "\n",
    "precision, recall, f1_score"
   ]
  },
  {
   "cell_type": "code",
   "execution_count": null,
   "metadata": {},
   "outputs": [],
   "source": []
  }
 ],
 "metadata": {
  "kernelspec": {
   "display_name": "Python 3",
   "language": "python",
   "name": "python3"
  },
  "language_info": {
   "codemirror_mode": {
    "name": "ipython",
    "version": 3
   },
   "file_extension": ".py",
   "mimetype": "text/x-python",
   "name": "python",
   "nbconvert_exporter": "python",
   "pygments_lexer": "ipython3",
   "version": "3.7.3"
  }
 },
 "nbformat": 4,
 "nbformat_minor": 2
}
