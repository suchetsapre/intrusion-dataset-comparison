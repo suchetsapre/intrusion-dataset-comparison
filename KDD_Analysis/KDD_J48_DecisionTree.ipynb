{
 "cells": [
  {
   "cell_type": "code",
   "execution_count": 4,
   "metadata": {},
   "outputs": [],
   "source": [
    "import pandas as pd\n",
    "from sklearn import metrics\n",
    "from sklearn.tree import DecisionTreeClassifier\n",
    "from sklearn.preprocessing import normalize"
   ]
  },
  {
   "cell_type": "code",
   "execution_count": 5,
   "metadata": {},
   "outputs": [],
   "source": [
    "x_train = pd.read_pickle('KDD_x_train_dummy.pkl').values\n",
    "x_test = pd.read_pickle('KDD_x_test_dummy.pkl').values\n",
    "y_train_type = pd.read_pickle('KDD_y_train_col_5.pkl').values\n",
    "y_test_type = pd.read_pickle('KDD_y_test_col_5.pkl').values\n",
    "y_train_binary = pd.read_pickle('KDD_y_train_col_1.pkl').values\n",
    "y_test_binary = pd.read_pickle('KDD_y_test_col_1.pkl').values\n",
    "y_train_intrusion = pd.read_pickle('KDD_y_train_col_40.pkl').values\n",
    "y_test_intrusion = pd.read_pickle('KDD_y_test_col_40.pkl').values"
   ]
  },
  {
   "cell_type": "code",
   "execution_count": null,
   "metadata": {},
   "outputs": [],
   "source": [
    "x_train_norm= normalize(x_train, axis=1, norm='l2')\n",
    "x_test_norm= normalize(x_test, axis=1, norm='l2')\n",
    "x_test_21_norm= normalize(x_test_21, axis=1, norm='l2')\n",
    "y_train_type_norm= normalize(y_train_type, axis=1, norm='l2')\n",
    "y_test_type_norm= normalize(y_test_type, axis=1, norm='l2')\n",
    "y_test_21_type_norm= normalize(y_test_21_type, axis=1, norm='l2')\n",
    "y_train_binary_norm= normalize(y_train_binary, axis=1, norm='l2')\n",
    "y_test_binary_norm= normalize(y_test_binary, axis=1, norm='l2')\n",
    "y_test_21_binary_norm= normalize(y_test_21_binary, axis=1, norm='l2')\n",
    "y_train_intrusion_norm= normalize(y_train_intrusion, axis=1, norm='l2')\n",
    "y_test_intrusion_norm= normalize(y_test_intrusion, axis=1, norm='l2')\n",
    "y_test_21_intrusion_norm= normalize(y_test_21_intrusion, axis=1, norm='l2')"
   ]
  },
  {
   "cell_type": "code",
   "execution_count": 9,
   "metadata": {},
   "outputs": [],
   "source": [
    "clf = DecisionTreeClassifier()\n",
    "clf = clf.fit(x_train,y_train_type)"
   ]
  },
  {
   "cell_type": "code",
   "execution_count": 10,
   "metadata": {},
   "outputs": [],
   "source": [
    "y_pred = clf.predict(x_test)"
   ]
  },
  {
   "cell_type": "code",
   "execution_count": 12,
   "metadata": {},
   "outputs": [
    {
     "name": "stdout",
     "output_type": "stream",
     "text": [
      "Accuracy: 0.9281415178054709\n"
     ]
    }
   ],
   "source": [
    "print(\"Accuracy:\",metrics.accuracy_score(y_test_type, y_pred))"
   ]
  }
 ],
 "metadata": {
  "kernelspec": {
   "display_name": "Python 3",
   "language": "python",
   "name": "python3"
  },
  "language_info": {
   "codemirror_mode": {
    "name": "ipython",
    "version": 3
   },
   "file_extension": ".py",
   "mimetype": "text/x-python",
   "name": "python",
   "nbconvert_exporter": "python",
   "pygments_lexer": "ipython3",
   "version": "3.7.3"
  }
 },
 "nbformat": 4,
 "nbformat_minor": 4
}