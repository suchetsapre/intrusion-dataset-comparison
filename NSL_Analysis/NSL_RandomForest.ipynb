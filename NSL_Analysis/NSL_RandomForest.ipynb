{
 "cells": [
  {
   "cell_type": "code",
   "execution_count": 2,
   "metadata": {},
   "outputs": [],
   "source": [
    "import pandas as pd\n",
    "from sklearn.metrics import accuracy_score\n",
    "from sklearn.ensemble import RandomForestClassifier\n",
    "from sklearn.preprocessing import normalize\n",
    "import Standard_Functions as sf"
   ]
  },
  {
   "cell_type": "code",
   "execution_count": 3,
   "metadata": {},
   "outputs": [],
   "source": [
    "x_train = pd.read_pickle('NSL_x_train_dummy.pkl').values\n",
    "x_test = pd.read_pickle('NSL_x_test_dummy.pkl').values\n",
    "x_test_21 = pd.read_pickle('NSL_x_test_21_dummy.pkl').values\n",
    "y_train_type = pd.read_pickle('NSL_y_train_col_5.pkl').values\n",
    "y_test_type = pd.read_pickle('NSL_y_test_col_5.pkl').values\n",
    "y_test_21_type = pd.read_pickle('NSL_y_test_21_col_5.pkl').values\n",
    "y_train_binary = pd.read_pickle('NSL_y_train_col_1.pkl').values\n",
    "y_test_binary = pd.read_pickle('NSL_y_test_col_1.pkl').values\n",
    "y_test_21_binary = pd.read_pickle('NSL_y_test_21_col_1.pkl').values\n",
    "y_train_intrusion = pd.read_pickle('NSL_y_train_col_40.pkl').values\n",
    "y_test_intrusion = pd.read_pickle('NSL_y_test_col_40.pkl').values\n",
    "y_test_21_intrusion = pd.read_pickle('NSL_y_test_21_col_40.pkl').values"
   ]
  },
  {
   "cell_type": "code",
   "execution_count": null,
   "outputs": [],
   "source": [
    "x_train_norm= normalize(x_train, axis=1, norm='l2')\n",
    "x_test_norm= normalize(x_test, axis=1, norm='l2')\n",
    "x_test_21_norm= normalize(x_test_21, axis=1, norm='l2')\n",
    "y_train_type_norm= normalize(y_train_type, axis=1, norm='l2')\n",
    "y_test_type_norm= normalize(y_test_type, axis=1, norm='l2')\n",
    "y_test_21_type_norm= normalize(y_test_21_type, axis=1, norm='l2')\n",
    "y_train_binary_norm= normalize(y_train_binary, axis=1, norm='l2')\n",
    "y_test_binary_norm= normalize(y_test_binary, axis=1, norm='l2')\n",
    "y_test_21_binary_norm= normalize(y_test_21_binary, axis=1, norm='l2')\n",
    "y_train_intrusion_norm= normalize(y_train_intrusion, axis=1, norm='l2')\n",
    "y_test_intrusion_norm= normalize(y_test_intrusion, axis=1, norm='l2')\n",
    "y_test_21_intrusion_norm= normalize(y_test_21_intrusion, axis=1, norm='l2')\n"
   ],
   "metadata": {
    "collapsed": false,
    "pycharm": {
     "name": "#%%\n"
    }
   }
  },
  {
   "cell_type": "code",
   "execution_count": 17,
   "metadata": {},
   "outputs": [],
   "source": [
    "model = RandomForestClassifier(n_estimators=100)"
   ]
  },
  {
   "cell_type": "code",
   "execution_count": 21,
   "metadata": {},
   "outputs": [
    {
     "name": "stderr",
     "output_type": "stream",
     "text": [
      "C:\\app\\Anaconda3\\lib\\site-packages\\ipykernel_launcher.py:1: DataConversionWarning: A column-vector y was passed when a 1d array was expected. Please change the shape of y to (n_samples,), for example using ravel().\n",
      "  \"\"\"Entry point for launching an IPython kernel.\n"
     ]
    },
    {
     "data": {
      "text/plain": [
       "RandomForestClassifier(bootstrap=True, class_weight=None, criterion='gini',\n",
       "            max_depth=None, max_features='auto', max_leaf_nodes=None,\n",
       "            min_impurity_decrease=0.0, min_impurity_split=None,\n",
       "            min_samples_leaf=1, min_samples_split=2,\n",
       "            min_weight_fraction_leaf=0.0, n_estimators=50, n_jobs=None,\n",
       "            oob_score=False, random_state=None, verbose=0,\n",
       "            warm_start=False)"
      ]
     },
     "execution_count": 21,
     "metadata": {},
     "output_type": "execute_result"
    }
   ],
   "source": [
    "model.fit(x_train, y_train_binary)"
   ]
  },
  {
   "cell_type": "code",
   "execution_count": 22,
   "metadata": {},
   "outputs": [],
   "source": [
    "y_pred = model.predict(x_test)"
   ]
  },
  {
   "cell_type": "code",
   "execution_count": 23,
   "metadata": {},
   "outputs": [
    {
     "data": {
      "text/plain": [
       "0.7698176817637404"
      ]
     },
     "execution_count": 23,
     "metadata": {},
     "output_type": "execute_result"
    }
   ],
   "source": [
    "accuracy_score(y_test_binary, y_pred)"
   ]
  },
  {
   "cell_type": "code",
   "execution_count": 26,
   "metadata": {},
   "outputs": [
    {
     "data": {
      "text/plain": [
       "(0.968263693174856, 0.6158042394014963, 0.7528223693612158)"
      ]
     },
     "execution_count": 26,
     "metadata": {},
     "output_type": "execute_result"
    }
   ],
   "source": [
    "binary_classification_accuracy_per_class = sf.accuracy_per_class_binary(y_pred, y_test_binary)\n",
    "\n",
    "tp, tn, fp, fn = sf.tp_tn_fp_fn(binary_classification_accuracy_per_class)\n",
    "\n",
    "precision = tp/(tp+fp)\n",
    "recall = tp/(tp+fn)\n",
    "f1_score = 2*(recall * precision) / (recall + precision)\n",
    "\n",
    "precision, recall, f1_score"
   ]
  },
  {
   "cell_type": "code",
   "execution_count": null,
   "metadata": {},
   "outputs": [],
   "source": []
  }
 ],
 "metadata": {
  "kernelspec": {
   "display_name": "Python 3",
   "language": "python",
   "name": "python3"
  },
  "language_info": {
   "codemirror_mode": {
    "name": "ipython",
    "version": 3
   },
   "file_extension": ".py",
   "mimetype": "text/x-python",
   "name": "python",
   "nbconvert_exporter": "python",
   "pygments_lexer": "ipython3",
   "version": "3.7.3"
  }
 },
 "nbformat": 4,
 "nbformat_minor": 2
}